{
 "cells": [
  {
   "cell_type": "markdown",
   "metadata": {},
   "source": [
    "# Representation of 2-dimensional Ising model on rectangular lattice with periodic boundary conditions\n",
    "\n",
    "Discussion of model representation and operation that are going to be used in calculations "
   ]
  },
  {
   "cell_type": "markdown",
   "metadata": {},
   "source": [
    "### Hamiltonian of the system"
   ]
  },
  {
   "cell_type": "markdown",
   "metadata": {},
   "source": [
    "Hamiltonian of isotropic Ising model is given as:\n",
    "$$\n",
    "    {\\cal H}(J,H) = -\\frac{J}{2} \\sum_{i}\\sum_{j\\in n(i)}\\sigma_i\\sigma_j - H \\sum_{i}\\sigma_i\n",
    "$$\n",
    "where summation over $j$ goes over all neighbours of $i$ reprezented by $n(i)$, and $\\sigma\\in\\{\\pm1\\}$.\n",
    "In the first example we will be interested in nearest neigbours approximation when $j=i\\pm1$"
   ]
  },
  {
   "cell_type": "markdown",
   "metadata": {},
   "source": [
    "### Modeling with boolean matrix"
   ]
  },
  {
   "cell_type": "markdown",
   "metadata": {},
   "source": [
    "As spin can take only two values, from computer modeling perspective it might be advantageous to map $\\{-1,1\\} \\rightarrow \\{0,1\\} = \\{\\mbox{False}, \\mbox{True}\\}$ taking advantage of the fact that 0 represents False and 1 any other integer represents True, multiplication of the spins can be represented as negation of exclusive disjunction:"
   ]
  },
  {
   "cell_type": "code",
   "execution_count": 1,
   "metadata": {},
   "outputs": [
    {
     "data": {
      "text/plain": [
       "[[True, False], [False, True]]"
      ]
     },
     "execution_count": 1,
     "metadata": {},
     "output_type": "execute_result"
    }
   ],
   "source": [
    "[[not (True ^ True), not (True ^ False)],[not (False ^ True), not (False ^ False)]]"
   ]
  },
  {
   "cell_type": "markdown",
   "metadata": {},
   "source": [
    "or negation of substraction:"
   ]
  },
  {
   "cell_type": "code",
   "execution_count": 2,
   "metadata": {},
   "outputs": [
    {
     "data": {
      "text/plain": [
       "[[True, False], [False, True]]"
      ]
     },
     "execution_count": 2,
     "metadata": {},
     "output_type": "execute_result"
    }
   ],
   "source": [
    "[[not (True - True), not (True - False)],[not (False - True), not (False - False)]]"
   ]
  },
  {
   "cell_type": "code",
   "execution_count": 3,
   "metadata": {},
   "outputs": [
    {
     "ename": "ModuleNotFoundError",
     "evalue": "No module named 'numpy'",
     "output_type": "error",
     "traceback": [
      "\u001b[0;31m---------------------------------------------------------------------------\u001b[0m",
      "\u001b[0;31mModuleNotFoundError\u001b[0m                       Traceback (most recent call last)",
      "\u001b[0;32m<ipython-input-3-159458f56356>\u001b[0m in \u001b[0;36m<module>\u001b[0;34m()\u001b[0m\n\u001b[0;32m----> 1\u001b[0;31m \u001b[0;32mimport\u001b[0m \u001b[0mnumpy\u001b[0m \u001b[0;32mas\u001b[0m \u001b[0mnp\u001b[0m\u001b[0;34m\u001b[0m\u001b[0m\n\u001b[0m\u001b[1;32m      2\u001b[0m \u001b[0;32mfrom\u001b[0m \u001b[0mmath\u001b[0m \u001b[0;32mimport\u001b[0m \u001b[0msqrt\u001b[0m\u001b[0;34m\u001b[0m\u001b[0m\n\u001b[1;32m      3\u001b[0m \u001b[0;34m\u001b[0m\u001b[0m\n\u001b[1;32m      4\u001b[0m \u001b[0mtruthnessVector\u001b[0m \u001b[0;34m=\u001b[0m \u001b[0mnp\u001b[0m\u001b[0;34m.\u001b[0m\u001b[0marray\u001b[0m\u001b[0;34m(\u001b[0m\u001b[0;34m[\u001b[0m\u001b[0;32mTrue\u001b[0m\u001b[0;34m,\u001b[0m \u001b[0;32mFalse\u001b[0m\u001b[0;34m]\u001b[0m\u001b[0;34m)\u001b[0m\u001b[0;34m\u001b[0m\u001b[0m\n\u001b[1;32m      5\u001b[0m \u001b[0mprint\u001b[0m\u001b[0;34m(\u001b[0m\u001b[0;34m'Defined vector: '\u001b[0m\u001b[0;34m,\u001b[0m \u001b[0mtruthnessVector\u001b[0m\u001b[0;34m)\u001b[0m\u001b[0;34m\u001b[0m\u001b[0m\n",
      "\u001b[0;31mModuleNotFoundError\u001b[0m: No module named 'numpy'"
     ]
    }
   ],
   "source": [
    "import numpy as np\n",
    "from math import sqrt\n",
    "\n",
    "truthnessVector = np.array([True, False])\n",
    "print('Defined vector: ', truthnessVector)\n",
    "print('Value of the operation over the vector: ', ~ (truthnessVector ^ truthnessVector))\n",
    "invertedVector = np.roll(truthnessVector, 1, axis=0)\n",
    "print('Inverted vector: ', invertedVector)\n",
    "print('Value of the operation between the vector and its inverse: ', ~ (truthnessVector ^ invertedVector))"
   ]
  },
  {
   "cell_type": "markdown",
   "metadata": {},
   "source": [
    "That demonstartes the eqivalence between negation of exclusive disjunction and multiplication between Ising spins up to linear transformation. \n",
    "\n",
    "### Transformation between canonical Ising model and boolean representation\n",
    "\n",
    "Summand are in case of canonical Ising model are taking values of $\\{-1,1\\}$ and in case of boolean representation $\\{0,1\\}$. That means that linear transformation between them is:\n",
    "$$\n",
    "    \\mbox{booleanRepresantation}(x) \\rightarrow \\mbox{canonicalRepresentation}(y): 2 x -1 \\\\\n",
    "    \\mbox{canonicalRepresentation}(y) \\rightarrow \\mbox{booleanRepresantation}(x): \\frac{y + 1}{2}\n",
    "$$\n",
    "\n",
    "In that way, calculations of linear functionals over $\\sigma^N$ spaces, as in case of hamiltonian or total magnetization could be easily mapped with the same transformation. \n",
    "\n",
    "And taking advantage of Numpy library allows for fast operations such as scalar multiplication or summation:"
   ]
  },
  {
   "cell_type": "code",
   "execution_count": 36,
   "metadata": {},
   "outputs": [
    {
     "data": {
      "text/plain": [
       "4"
      ]
     },
     "execution_count": 36,
     "metadata": {},
     "output_type": "execute_result"
    }
   ],
   "source": [
    "np.sum(2*[truthnessVector, invertedVector])"
   ]
  },
  {
   "cell_type": "markdown",
   "metadata": {},
   "source": [
    "### Periodic boundary conditions and calculations in isotropic nearest neighbours approximation\n",
    "\n",
    "Also shifting operation allows for fast calculation of energy of a configuration of a system with periodic boundary conditions by means of:"
   ]
  },
  {
   "cell_type": "code",
   "execution_count": 37,
   "metadata": {},
   "outputs": [
    {
     "name": "stdout",
     "output_type": "stream",
     "text": [
      "Example state: \n",
      " [[ True  True False]\n",
      " [ True False False]\n",
      " [ True  True  True]]\n"
     ]
    }
   ],
   "source": [
    "exampleState = np.array([[True, True, False],[True, False, False], [True, True, True]])\n",
    "print('Example state: \\n', exampleState)"
   ]
  },
  {
   "cell_type": "code",
   "execution_count": 38,
   "metadata": {},
   "outputs": [
    {
     "name": "stdout",
     "output_type": "stream",
     "text": [
      "X-axes shifted state: \n",
      " [[False  True  True]\n",
      " [False  True False]\n",
      " [ True  True  True]]\n"
     ]
    }
   ],
   "source": [
    "print('X-axes shifted state: \\n', np.roll(exampleState, 1, axis=1))"
   ]
  },
  {
   "cell_type": "code",
   "execution_count": 39,
   "metadata": {},
   "outputs": [
    {
     "name": "stdout",
     "output_type": "stream",
     "text": [
      "Y-axes shifted state: \n",
      " [[ True  True  True]\n",
      " [ True  True False]\n",
      " [ True False False]]\n"
     ]
    }
   ],
   "source": [
    "print('Y-axes shifted state: \\n', np.roll(exampleState, 1, axis=0))"
   ]
  },
  {
   "cell_type": "markdown",
   "metadata": {},
   "source": [
    "Comment: allowing for next-nearest-neighbour corrections would include just shifts for more then one place (with possibly different interaction constant). Also lifting requiremet for isotropy would be achieved with an introduction of an additional constant."
   ]
  },
  {
   "cell_type": "markdown",
   "metadata": {},
   "source": [
    "### Example of calculation of total magnetization $M$ and average magnetization per node $m$\n",
    "\n",
    "$$\n",
    "    M = \\sum_i \\sigma_i\n",
    "$$"
   ]
  },
  {
   "cell_type": "code",
   "execution_count": 40,
   "metadata": {},
   "outputs": [
    {
     "name": "stdout",
     "output_type": "stream",
     "text": [
      "Example state: \n",
      " [[ True  True False]\n",
      " [ True False False]\n",
      " [ True  True  True]]\n"
     ]
    }
   ],
   "source": [
    "exampleState = np.array([[True, True, False],[True, False, False], [True, True, True]])\n",
    "print('Example state: \\n', exampleState)"
   ]
  },
  {
   "cell_type": "code",
   "execution_count": 41,
   "metadata": {},
   "outputs": [
    {
     "name": "stdout",
     "output_type": "stream",
     "text": [
      "Total number of nodes: 9\n",
      "Total magnetization M: 3\n",
      "Average magnetization per node m: 0.333333333333\n"
     ]
    }
   ],
   "source": [
    "numberOfNodes = np.size(exampleState)\n",
    "print('Total number of nodes:', numberOfNodes)\n",
    "totalMagnetization = 2 * np.sum(exampleState) - numberOfNodes\n",
    "print('Total magnetization M:', totalMagnetization)\n",
    "print('Average magnetization per node m:', totalMagnetization/numberOfNodes)"
   ]
  },
  {
   "cell_type": "code",
   "execution_count": 42,
   "metadata": {},
   "outputs": [
    {
     "name": "stdout",
     "output_type": "stream",
     "text": [
      "0.666666666667 0.333333333333\n"
     ]
    }
   ],
   "source": [
    "print(np.average(exampleState), 2*(np.average(exampleState)) - 1)"
   ]
  },
  {
   "cell_type": "markdown",
   "metadata": {},
   "source": [
    "### Example of calculation of energy for PBC in nearest neighbours approx in absence of exprenal H-field\n",
    "\n",
    "$$\n",
    "    {\\cal H}(J,0) = -\\frac{J}{2} \\sum_{i}\\sum_{j\\in n(i)}\\sigma_i\\sigma_j \\\\\n",
    "                  = - J \\sum_{i}\\sigma_{i}\\sigma_{i \\mbox{1-shifted_right}}  - J \\sum_{i}\n",
    "                  \\sigma_{i}\\sigma_{i-\\mbox{ 1-shifted_down}}\n",
    "$$\n",
    "due to symetry $\\sigma_i\\sigma_j = \\sigma_j\\sigma_i$. Taking J=1 for convenience "
   ]
  },
  {
   "cell_type": "code",
   "execution_count": 43,
   "metadata": {},
   "outputs": [
    {
     "name": "stdout",
     "output_type": "stream",
     "text": [
      "Example state: \n",
      " [[ True  True False]\n",
      " [ True False False]\n",
      " [ True  True  True]]\n"
     ]
    }
   ],
   "source": [
    "exampleState = np.array([[True, True, False],[True, False, False], [True, True, True]])\n",
    "print('Example state: \\n', exampleState)"
   ]
  },
  {
   "cell_type": "markdown",
   "metadata": {},
   "source": [
    "#### Calculation of the right-neighbour terms:"
   ]
  },
  {
   "cell_type": "code",
   "execution_count": 44,
   "metadata": {},
   "outputs": [
    {
     "data": {
      "text/plain": [
       "array([[False,  True, False],\n",
       "       [False, False,  True],\n",
       "       [ True,  True,  True]], dtype=bool)"
      ]
     },
     "execution_count": 44,
     "metadata": {},
     "output_type": "execute_result"
    }
   ],
   "source": [
    "~(exampleState ^ np.roll(exampleState, 1, axis=1))"
   ]
  },
  {
   "cell_type": "code",
   "execution_count": 45,
   "metadata": {},
   "outputs": [
    {
     "data": {
      "text/plain": [
       "-5"
      ]
     },
     "execution_count": 45,
     "metadata": {},
     "output_type": "execute_result"
    }
   ],
   "source": [
    "- np.sum(~(exampleState ^ np.roll(exampleState, 1, axis=1)))"
   ]
  },
  {
   "cell_type": "markdown",
   "metadata": {},
   "source": [
    "#### Calculation of the donw-neighbour terms:"
   ]
  },
  {
   "cell_type": "code",
   "execution_count": 46,
   "metadata": {},
   "outputs": [
    {
     "data": {
      "text/plain": [
       "array([[ True,  True, False],\n",
       "       [ True, False,  True],\n",
       "       [ True, False, False]], dtype=bool)"
      ]
     },
     "execution_count": 46,
     "metadata": {},
     "output_type": "execute_result"
    }
   ],
   "source": [
    "~(exampleState ^ np.roll(exampleState, 1, axis=0))"
   ]
  },
  {
   "cell_type": "code",
   "execution_count": 47,
   "metadata": {},
   "outputs": [
    {
     "data": {
      "text/plain": [
       "-5"
      ]
     },
     "execution_count": 47,
     "metadata": {},
     "output_type": "execute_result"
    }
   ],
   "source": [
    "- np.sum(~(exampleState ^ np.roll(exampleState, 1, axis=1)))"
   ]
  },
  {
   "cell_type": "markdown",
   "metadata": {},
   "source": [
    "#### Total energy  and average energy per node $\\epsilon$\n",
    "\n",
    "Total energy in units of interaction constant $\\frac{E}{J}$"
   ]
  },
  {
   "cell_type": "code",
   "execution_count": 48,
   "metadata": {},
   "outputs": [
    {
     "name": "stdout",
     "output_type": "stream",
     "text": [
      "E/J:  -10\n"
     ]
    }
   ],
   "source": [
    "E = -np.sum(~(exampleState ^ np.roll(exampleState, 1, axis=1))) - np.sum(~(exampleState ^ np.roll(exampleState, 1, axis=1)))\n",
    "print('E/J: ', E)"
   ]
  },
  {
   "cell_type": "markdown",
   "metadata": {},
   "source": [
    "Average energy per node $\\epsilon$ in the same units\n",
    "$\\frac{\\epsilon}{J}$:"
   ]
  },
  {
   "cell_type": "code",
   "execution_count": 49,
   "metadata": {},
   "outputs": [
    {
     "name": "stdout",
     "output_type": "stream",
     "text": [
      "e/J:  -1.11111111111\n"
     ]
    }
   ],
   "source": [
    "print('e/J: ', E/np.size(exampleState))"
   ]
  },
  {
   "cell_type": "markdown",
   "metadata": {},
   "source": [
    "Or in canonical Ising representation:"
   ]
  },
  {
   "cell_type": "code",
   "execution_count": 59,
   "metadata": {},
   "outputs": [
    {
     "name": "stdout",
     "output_type": "stream",
     "text": [
      "e/J:  -3.75\n"
     ]
    }
   ],
   "source": [
    "print('e/J: ', 2*(-np.average(~(exampleState ^ np.roll(exampleState, 1, axis=1))) - np.average(~(exampleState ^ np.roll(exampleState, 1, axis=0))))-1)"
   ]
  },
  {
   "cell_type": "code",
   "execution_count": 61,
   "metadata": {},
   "outputs": [
    {
     "name": "stdout",
     "output_type": "stream",
     "text": [
      "variance of e/J:  3.25\n"
     ]
    }
   ],
   "source": [
    "print('variance of e/J: ', 4*(np.var(~(exampleState ^ np.roll(exampleState, 1, axis=1))) + np.average(~(exampleState ^ np.roll(exampleState, 1, axis=0)))))"
   ]
  },
  {
   "cell_type": "markdown",
   "metadata": {},
   "source": [
    "### Standar deviation of average magnetization per node\n",
    "\n",
    "Variance:\n",
    "$$\n",
    "    Var_{m} = \\sum_i (\\sigma_i - m)^2\n",
    "$$\n",
    "and standard deviation:\n",
    "$$\n",
    "    SD_{m} = \\sqrt{\\frac{\\sum_i (\\sigma_i - m)^2} {N}}\n",
    "$$"
   ]
  },
  {
   "cell_type": "code",
   "execution_count": 50,
   "metadata": {},
   "outputs": [
    {
     "name": "stdout",
     "output_type": "stream",
     "text": [
      "Example state: \n",
      " [[ True  True False]\n",
      " [ True False False]\n",
      " [ True  True  True]]\n"
     ]
    }
   ],
   "source": [
    "exampleState = np.array([[True, True, False],[True, False, False], [True, True, True]])\n",
    "numberOfNodes = np.size(exampleState)\n",
    "print('Example state: \\n', exampleState)"
   ]
  },
  {
   "cell_type": "code",
   "execution_count": 51,
   "metadata": {},
   "outputs": [
    {
     "name": "stdout",
     "output_type": "stream",
     "text": [
      "average magnetization per node in boolean representation:  0.666666666667\n"
     ]
    }
   ],
   "source": [
    "averageMagnetizationPerNodeBooleanRepresentation = np.sum(exampleState)/numberOfNodes\n",
    "print('average magnetization per node in boolean representation: ', averageMagnetizationPerNodeBooleanRepresentation)"
   ]
  },
  {
   "cell_type": "code",
   "execution_count": 52,
   "metadata": {},
   "outputs": [
    {
     "name": "stdout",
     "output_type": "stream",
     "text": [
      "difference:\n",
      " [[ 0.33333333  0.33333333 -0.66666667]\n",
      " [ 0.33333333 -0.66666667 -0.66666667]\n",
      " [ 0.33333333  0.33333333  0.33333333]]\n",
      "square difference:\n",
      " [[ 0.11111111  0.11111111  0.44444444]\n",
      " [ 0.11111111  0.44444444  0.44444444]\n",
      " [ 0.11111111  0.11111111  0.11111111]]\n",
      "variance:  0.222222222222\n",
      "standard deviation:  0.4714045207910317\n",
      "Using Numpy functions | average:  0.666666666667\n",
      "Using Numpy functions | variance:  0.222222222222\n",
      "Using Numpy functions | standard deviation:  0.4714045207910317\n"
     ]
    }
   ],
   "source": [
    "print('difference:\\n', exampleState - averageMagnetizationPerNodeBooleanRepresentation)\n",
    "print('square difference:\\n', (exampleState - averageMagnetizationPerNodeBooleanRepresentation) ** 2)\n",
    "print('variance: ', np.sum((exampleState - averageMagnetizationPerNodeBooleanRepresentation)**2)/numberOfNodes)\n",
    "print('standard deviation: ', sqrt(np.sum((exampleState - averageMagnetizationPerNodeBooleanRepresentation)**2)/numberOfNodes))\n",
    "print('Using Numpy functions | average: ', np.average(exampleState))\n",
    "print('Using Numpy functions | variance: ', np.var(exampleState))\n",
    "print('Using Numpy functions | standard deviation: ', sqrt(np.var(exampleState)))"
   ]
  },
  {
   "cell_type": "markdown",
   "metadata": {},
   "source": [
    "Accordin to [Expectation and Variance of lineary transformed argument](/Expectation%20and%20Variance%20of%20lineary%20transformed%20argument.ipynb) values for canonical Ising model are:"
   ]
  },
  {
   "cell_type": "code",
   "execution_count": 53,
   "metadata": {},
   "outputs": [
    {
     "name": "stdout",
     "output_type": "stream",
     "text": [
      "Using Numpy functions | average:  0.333333333333\n",
      "Using Numpy functions | variance:  0.888888888889\n",
      "Using Numpy functions | standard deviation:  0.9428090415820634\n"
     ]
    }
   ],
   "source": [
    "print('Using Numpy functions | average: ', 2*np.average(exampleState)-1)\n",
    "print('Using Numpy functions | variance: ', 4*np.var(exampleState))\n",
    "print('Using Numpy functions | standard deviation: ', 2*sqrt(np.var(exampleState)))"
   ]
  },
  {
   "cell_type": "markdown",
   "metadata": {},
   "source": [
    "### Calculating energy differnce for a single spin flip\n",
    "\n",
    "Let's say that we are interested in spin at position <2,3>. The whole lattice can be easily sliced as:"
   ]
  },
  {
   "cell_type": "code",
   "execution_count": 54,
   "metadata": {},
   "outputs": [
    {
     "name": "stdout",
     "output_type": "stream",
     "text": [
      "Example state: \n",
      " [[False False False False]\n",
      " [False False False False]\n",
      " [ True  True False False]\n",
      " [False False  True False]]\n"
     ]
    }
   ],
   "source": [
    "exampleState = np.array([[False, False, False, False],[False, False, False, False], [True, True, False, False],[False, False, True, False]])\n",
    "numberOfNodes = np.size(exampleState)\n",
    "print('Example state: \\n', exampleState)"
   ]
  },
  {
   "cell_type": "code",
   "execution_count": 55,
   "metadata": {},
   "outputs": [
    {
     "name": "stdout",
     "output_type": "stream",
     "text": [
      "[[False False False]\n",
      " [False False False]\n",
      " [False False  True]]\n",
      "E1:  -14\n",
      "E2:  -10\n",
      "Difference E2-E1:  4\n"
     ]
    }
   ],
   "source": [
    "i = 2; j = 4;\n",
    "relevantSlice = np.pad(exampleState, 1, mode='wrap')[i-1:i+2,j-1:j+2]\n",
    "print(relevantSlice)\n",
    "E1 = -np.sum(~(relevantSlice ^ np.roll(relevantSlice, 1, axis=1))) - np.sum(~(relevantSlice ^ np.roll(relevantSlice, 1, axis=1)))\n",
    "print('E1: ', E1)\n",
    "relevantSlice[1,1] = ~relevantSlice[1,1]\n",
    "E2 = -np.sum(~(relevantSlice ^ np.roll(relevantSlice, 1, axis=1))) - np.sum(~(relevantSlice ^ np.roll(relevantSlice, 1, axis=1)))\n",
    "print('E2: ', E2)\n",
    "print('Difference E2-E1: ', E2-E1)"
   ]
  },
  {
   "cell_type": "markdown",
   "metadata": {},
   "source": [
    "What means that the filpped state has higher energy"
   ]
  }
 ],
 "metadata": {
  "kernelspec": {
   "display_name": "Python 3",
   "language": "python",
   "name": "python3"
  },
  "language_info": {
   "codemirror_mode": {
    "name": "ipython",
    "version": 3
   },
   "file_extension": ".py",
   "mimetype": "text/x-python",
   "name": "python",
   "nbconvert_exporter": "python",
   "pygments_lexer": "ipython3",
   "version": "3.6.4"
  }
 },
 "nbformat": 4,
 "nbformat_minor": 2
}
