{
 "cells": [
  {
   "cell_type": "markdown",
   "metadata": {},
   "source": [
    "# Monte Carlo Markov chain of 2d Ising model\n",
    "\n",
    "Initial commit\n",
    "[subdirectory/]<filename>\n",
    "\n",
    "plan: add\n",
    "\n",
    "Given Hamiltonian:\n",
    "\n",
    "calculate Magnetization\n",
    "calculate Energy over F should not be calculated directly ... you can not check all configurations \n",
    "\n",
    "=> Montecarlo ... MCMc ... how to get next state ??\n",
    "Markov chain ...\n",
    "\n",
    "Z approximation ... to true Z (approx F to true F)\n",
    "\n",
    "nadji .. \n",
    "M, U, C, \n",
    "\n",
    "df/dH = M \n",
    "\n",
    "samo oni te Energihe ... mikrokanonski ... kanonski ansambl ?! "
   ]
  },
  {
   "cell_type": "code",
   "execution_count": null,
   "metadata": {
    "collapsed": true
   },
   "outputs": [],
   "source": []
  }
 ],
 "metadata": {
  "kernelspec": {
   "display_name": "Python 3",
   "language": "python",
   "name": "python3"
  },
  "language_info": {
   "codemirror_mode": {
    "name": "ipython",
    "version": 3
   },
   "file_extension": ".py",
   "mimetype": "text/x-python",
   "name": "python",
   "nbconvert_exporter": "python",
   "pygments_lexer": "ipython3",
   "version": "3.6.3"
  }
 },
 "nbformat": 4,
 "nbformat_minor": 2
}
