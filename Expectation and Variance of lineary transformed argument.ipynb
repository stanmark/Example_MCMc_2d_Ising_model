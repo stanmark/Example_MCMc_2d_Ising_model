{
 "cells": [
  {
   "cell_type": "markdown",
   "metadata": {},
   "source": [
    "# Expectation and Variance of lineary transformed argument"
   ]
  },
  {
   "cell_type": "markdown",
   "metadata": {},
   "source": [
    "For expectation value:\n",
    "$$\n",
    "\\bar{x} = \\frac{\\sum_i x}{\\sum_i 1}\n",
    "$$\n",
    "if $y = a \\cdot x + b$\n",
    "$$\n",
    "\\bar{y} = \\frac{\\sum_i a \\cdot x + b}{\\sum_i 1}\n",
    "        = a \\cdot \\frac{\\sum_i x}{\\sum_i 1} + b\\\\\n",
    "        = a \\cdot \\bar{x} + b\n",
    "$$"
   ]
  },
  {
   "cell_type": "markdown",
   "metadata": {},
   "source": [
    "For variance:\n",
    "$$\n",
    "\\overline{x^2} = \\frac{\\sum_i x^2}{\\sum_i 1}\n",
    "$$\n",
    "and with $y = a \\cdot x + b$\n",
    "$$\n",
    "\\overline{y^2} = \\frac{\\sum_i (a \\cdot x + b)^2}{\\sum_i 1}\n",
    "        = \\frac{\\sum_i a^2 \\cdot x^2 + 2ab\\cdot x + b^2}{\\sum_i 1}\\\\\n",
    "        = a^2 \\cdot \\frac{\\sum_i x^2}{\\sum_i 1} + 2ab \\cdot \\frac{\\sum_i x}{\\sum_i 1} + b^2\n",
    "        = a^2 \\cdot \\overline{x^2} + 2ab \\cdot \\bar{x} + b^2\n",
    "$$\n",
    "so that\n",
    "$$\n",
    "    \\overline{y^2} - \\bar{y}^2 = a^2 \\cdot \\overline{x^2} + 2ab \\cdot \\bar{x} + b^2 - (a\\cdot\\bar{x} + b)^2\\\\\n",
    "        = a^2 (\\overline{x^2}-\\bar{x}^2)\n",
    "$$"
   ]
  },
  {
   "cell_type": "markdown",
   "metadata": {},
   "source": [
    "**In conclusion:**\n",
    "$$\n",
    "    \\overline{a\\cdot x + b} = a\\cdot\\bar{x}+b\n",
    "$$\n",
    "and\n",
    "$$\n",
    "    \\mbox{Var}(a\\cdot x + b) = a^2 \\cdot \\mbox{Var}(x)\n",
    "$$"
   ]
  }
 ],
 "metadata": {
  "kernelspec": {
   "display_name": "Python 3",
   "language": "python",
   "name": "python3"
  },
  "language_info": {
   "codemirror_mode": {
    "name": "ipython",
    "version": 3
   },
   "file_extension": ".py",
   "mimetype": "text/x-python",
   "name": "python",
   "nbconvert_exporter": "python",
   "pygments_lexer": "ipython3",
   "version": "3.6.3"
  }
 },
 "nbformat": 4,
 "nbformat_minor": 2
}
